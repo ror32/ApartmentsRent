{
  "nbformat": 4,
  "nbformat_minor": 0,
  "metadata": {
    "colab": {
      "name": "ApartmentsRentLosAngeles.ipynb",
      "provenance": [],
      "collapsed_sections": [],
      "authorship_tag": "ABX9TyPYFr2bTieAz7uzcRufeG1p",
      "include_colab_link": true
    },
    "kernelspec": {
      "name": "python3",
      "display_name": "Python 3"
    }
  },
  "cells": [
    {
      "cell_type": "markdown",
      "metadata": {
        "id": "view-in-github",
        "colab_type": "text"
      },
      "source": [
        "<a href=\"https://colab.research.google.com/github/ror32/ApartmentsRent/blob/master/ApartmentsRentLosAngeles.ipynb\" target=\"_parent\"><img src=\"https://colab.research.google.com/assets/colab-badge.svg\" alt=\"Open In Colab\"/></a>"
      ]
    },
    {
      "cell_type": "code",
      "metadata": {
        "id": "eyYGfl44o4Ik",
        "colab_type": "code",
        "outputId": "886d85c8-c449-4e79-c501-85e4b5813d8c",
        "colab": {
          "base_uri": "https://localhost:8080/",
          "height": 34
        }
      },
      "source": [
        "!pip install gazpacho"
      ],
      "execution_count": 1,
      "outputs": [
        {
          "output_type": "stream",
          "text": [
            "Requirement already satisfied: gazpacho in /usr/local/lib/python3.6/dist-packages (0.9)\n"
          ],
          "name": "stdout"
        }
      ]
    },
    {
      "cell_type": "markdown",
      "metadata": {
        "id": "JVXod__lHidf",
        "colab_type": "text"
      },
      "source": [
        "## Get the html data with gazpacho"
      ]
    },
    {
      "cell_type": "code",
      "metadata": {
        "colab_type": "code",
        "id": "TenGxmc9Fzcn",
        "colab": {}
      },
      "source": [
        "from gazpacho import get\n",
        "\n",
        "base = f'https://www.apartmentlist.com/ca/los-angeles'\n",
        "num = 1\n",
        "url = f'{base}/page-{num}'\n",
        "\n",
        "html = get(url)"
      ],
      "execution_count": 0,
      "outputs": []
    },
    {
      "cell_type": "markdown",
      "metadata": {
        "id": "FHdqwv5uHwbm",
        "colab_type": "text"
      },
      "source": [
        "## Pass the captured html to a Soup parser"
      ]
    },
    {
      "cell_type": "code",
      "metadata": {
        "id": "HV3WoFqOrcYG",
        "colab_type": "code",
        "colab": {}
      },
      "source": [
        "from gazpacho import Soup\n",
        "\n",
        "soup = Soup(html)"
      ],
      "execution_count": 0,
      "outputs": []
    },
    {
      "cell_type": "markdown",
      "metadata": {
        "id": "iybnkiyYH8wK",
        "colab_type": "text"
      },
      "source": [
        "## Find the html tags that contain apartments data"
      ]
    },
    {
      "cell_type": "code",
      "metadata": {
        "id": "5HhTCEUfryJp",
        "colab_type": "code",
        "colab": {}
      },
      "source": [
        "rows = soup.find('div', {'class': 'ListingCard'})"
      ],
      "execution_count": 0,
      "outputs": []
    },
    {
      "cell_type": "markdown",
      "metadata": {
        "id": "XN8LMGN5ISCg",
        "colab_type": "text"
      },
      "source": [
        "## Capture a single row (and inspect for good measure)\n"
      ]
    },
    {
      "cell_type": "code",
      "metadata": {
        "id": "yswBRLkFs2yK",
        "colab_type": "code",
        "outputId": "90b9af41-02b6-4454-83e2-98dbb64f8d06",
        "colab": {
          "base_uri": "https://localhost:8080/",
          "height": 34
        }
      },
      "source": [
        "row = rows[1]\n",
        "row.find('div', {'class': 'css-17xjl8p'}).find('span')[0].text\n"
      ],
      "execution_count": 5,
      "outputs": [
        {
          "output_type": "execute_result",
          "data": {
            "text/plain": [
              "'6250 Canoga Ave,'"
            ]
          },
          "metadata": {
            "tags": []
          },
          "execution_count": 5
        }
      ]
    },
    {
      "cell_type": "code",
      "metadata": {
        "id": "t-4U3Hw5TPTh",
        "colab_type": "code",
        "colab": {
          "base_uri": "https://localhost:8080/",
          "height": 34
        },
        "outputId": "ff536673-eab8-4d4f-f285-0f959903f64a"
      },
      "source": [
        "row.find('div', {'class': 'css-16tgeys'}).find('a').text"
      ],
      "execution_count": 6,
      "outputs": [
        {
          "output_type": "execute_result",
          "data": {
            "text/plain": [
              "'Triana'"
            ]
          },
          "metadata": {
            "tags": []
          },
          "execution_count": 6
        }
      ]
    },
    {
      "cell_type": "code",
      "metadata": {
        "id": "1nwBfR69m7gu",
        "colab_type": "code",
        "colab": {
          "base_uri": "https://localhost:8080/",
          "height": 68
        },
        "outputId": "732f2cc5-c309-4871-895a-035c7e17bbb6"
      },
      "source": [
        "row = rows[0]\n",
        "apts = row.find('div', {'class': 'css-fyffd6'}).find('div', {'class': 'css-1oxqqna'})\n",
        "for apt in apts:\n",
        "  print(apt.find('div', {'class': 'css-xjvzth'}).text, apt.find('div', {'class': 'css-ajwnv4'}).text,)\n"
      ],
      "execution_count": 7,
      "outputs": [
        {
          "output_type": "stream",
          "text": [
            "Studio $1,480\n",
            "1 Bedroom $1,595\n",
            "2 Bedrooms $1,945\n"
          ],
          "name": "stdout"
        }
      ]
    },
    {
      "cell_type": "code",
      "metadata": {
        "id": "rOIejW8IiYl7",
        "colab_type": "code",
        "colab": {
          "base_uri": "https://localhost:8080/",
          "height": 54
        },
        "outputId": "2b11f9f5-aea4-42c7-bd97-eaee79e1f8d7"
      },
      "source": [
        "row.find('div', {'class': 'css-11wmgwu'}).text"
      ],
      "execution_count": 8,
      "outputs": [
        {
          "output_type": "execute_result",
          "data": {
            "text/plain": [
              "'Studio, one- and two-bedroom apartments in pet-friendly community with pool, gym, elevator, bbq/grill, carport. Modern kitchen, hardwoods, walk-in closets, patio/balcony. Near California State, Northridge, shopping, dining, entertainment (Burbank). Easy access to the 405 and 101.'"
            ]
          },
          "metadata": {
            "tags": []
          },
          "execution_count": 8
        }
      ]
    },
    {
      "cell_type": "markdown",
      "metadata": {
        "id": "7MBh78fcI7In",
        "colab_type": "text"
      },
      "source": [
        "## Wrap these find operations into a function"
      ]
    },
    {
      "cell_type": "code",
      "metadata": {
        "id": "DP7oNquUjBY1",
        "colab_type": "code",
        "colab": {}
      },
      "source": [
        "def parse_row(row):\n",
        "  data = []\n",
        "\n",
        "  name = row.find('div', {'class': 'css-16tgeys'}).find('a').text or None\n",
        "  address, city = [row.find('div', {'class': 'css-17xjl8p'}).find('span')[i].text.rstrip(',') for i in range(2)]\n",
        "\n",
        "  apts = row.find('div', {'class': 'css-fyffd6'}).find('div', {'class': 'css-1oxqqna'})\n",
        "  if not isinstance(apts, type([])):\n",
        "    apts = [apts]\n",
        "\n",
        "  description = row.find('div', {'class': 'css-11wmgwu'}).text or None\n",
        "\n",
        "  for apt in apts:\n",
        "    bedrooms = apt.find('div', {'class': 'css-xjvzth'}).text\n",
        "    price = apt.find('div', {'class': 'css-ajwnv4'}).text\n",
        "\n",
        "    if price != 'Ask':\n",
        "      sqft = apt.find('div', {'class': 'css-o1qo1i'}).text\n",
        "      data += [(name, description, address, city, bedrooms, sqft, price)]\n",
        "  \n",
        "  return data\n"
      ],
      "execution_count": 0,
      "outputs": []
    },
    {
      "cell_type": "code",
      "metadata": {
        "id": "cKMWnryKwLQe",
        "colab_type": "code",
        "colab": {
          "base_uri": "https://localhost:8080/",
          "height": 394
        },
        "outputId": "3ceccc0a-62d0-45b4-ef45-20ed624159a9"
      },
      "source": [
        "parse_row(row)"
      ],
      "execution_count": 10,
      "outputs": [
        {
          "output_type": "execute_result",
          "data": {
            "text/plain": [
              "[('Northview-Southview Apartments',\n",
              "  'Studio, one- and two-bedroom apartments in pet-friendly community with pool, gym, elevator, bbq/grill, carport. Modern kitchen, hardwoods, walk-in closets, patio/balcony. Near California State, Northridge, shopping, dining, entertainment (Burbank). Easy access to the 405 and 101.',\n",
              "  '8111 Reseda Blvd',\n",
              "  'Los Angeles',\n",
              "  'Studio',\n",
              "  '450 sqft',\n",
              "  '$1,480'),\n",
              " ('Northview-Southview Apartments',\n",
              "  'Studio, one- and two-bedroom apartments in pet-friendly community with pool, gym, elevator, bbq/grill, carport. Modern kitchen, hardwoods, walk-in closets, patio/balcony. Near California State, Northridge, shopping, dining, entertainment (Burbank). Easy access to the 405 and 101.',\n",
              "  '8111 Reseda Blvd',\n",
              "  'Los Angeles',\n",
              "  '1 Bedroom',\n",
              "  '687 sqft',\n",
              "  '$1,595'),\n",
              " ('Northview-Southview Apartments',\n",
              "  'Studio, one- and two-bedroom apartments in pet-friendly community with pool, gym, elevator, bbq/grill, carport. Modern kitchen, hardwoods, walk-in closets, patio/balcony. Near California State, Northridge, shopping, dining, entertainment (Burbank). Easy access to the 405 and 101.',\n",
              "  '8111 Reseda Blvd',\n",
              "  'Los Angeles',\n",
              "  '2 Bedrooms',\n",
              "  '953 sqft',\n",
              "  '$1,945')]"
            ]
          },
          "metadata": {
            "tags": []
          },
          "execution_count": 10
        }
      ]
    },
    {
      "cell_type": "markdown",
      "metadata": {
        "id": "vbAr0zreJFuU",
        "colab_type": "text"
      },
      "source": [
        "## Make sure that the function works for all the captured rows"
      ]
    },
    {
      "cell_type": "code",
      "metadata": {
        "id": "J2CiuesPwIm_",
        "colab_type": "code",
        "colab": {
          "base_uri": "https://localhost:8080/",
          "height": 1000
        },
        "outputId": "dc786629-df9b-4fa0-f86a-c173a6f9e9ba"
      },
      "source": [
        "appartments = []\n",
        "\n",
        "for row in rows:\n",
        "  try:\n",
        "    appartments.extend(parse_row(row))\n",
        "  except AttributeError:\n",
        "    pass\n",
        "\n",
        "appartments\n"
      ],
      "execution_count": 11,
      "outputs": [
        {
          "output_type": "execute_result",
          "data": {
            "text/plain": [
              "[('Northview-Southview Apartments',\n",
              "  'Studio, one- and two-bedroom apartments in pet-friendly community with pool, gym, elevator, bbq/grill, carport. Modern kitchen, hardwoods, walk-in closets, patio/balcony. Near California State, Northridge, shopping, dining, entertainment (Burbank). Easy access to the 405 and 101.',\n",
              "  '8111 Reseda Blvd',\n",
              "  'Los Angeles',\n",
              "  'Studio',\n",
              "  '450 sqft',\n",
              "  '$1,480'),\n",
              " ('Northview-Southview Apartments',\n",
              "  'Studio, one- and two-bedroom apartments in pet-friendly community with pool, gym, elevator, bbq/grill, carport. Modern kitchen, hardwoods, walk-in closets, patio/balcony. Near California State, Northridge, shopping, dining, entertainment (Burbank). Easy access to the 405 and 101.',\n",
              "  '8111 Reseda Blvd',\n",
              "  'Los Angeles',\n",
              "  '1 Bedroom',\n",
              "  '687 sqft',\n",
              "  '$1,595'),\n",
              " ('Northview-Southview Apartments',\n",
              "  'Studio, one- and two-bedroom apartments in pet-friendly community with pool, gym, elevator, bbq/grill, carport. Modern kitchen, hardwoods, walk-in closets, patio/balcony. Near California State, Northridge, shopping, dining, entertainment (Burbank). Easy access to the 405 and 101.',\n",
              "  '8111 Reseda Blvd',\n",
              "  'Los Angeles',\n",
              "  '2 Bedrooms',\n",
              "  '953 sqft',\n",
              "  '$1,945'),\n",
              " ('Triana',\n",
              "  'This funky apartment complex sits above shops and restaurants, with access to two local bus lines nearby. Luxury one- to three-bedroom residences with granite counters and walk-in closets. Community amenities include a pool and clubhouse.',\n",
              "  '6250 Canoga Ave',\n",
              "  'Los Angeles',\n",
              "  '1 Bedroom',\n",
              "  '836 sqft',\n",
              "  '$2,102'),\n",
              " ('Triana',\n",
              "  'This funky apartment complex sits above shops and restaurants, with access to two local bus lines nearby. Luxury one- to three-bedroom residences with granite counters and walk-in closets. Community amenities include a pool and clubhouse.',\n",
              "  '6250 Canoga Ave',\n",
              "  'Los Angeles',\n",
              "  '2 Bedrooms',\n",
              "  '1201 sqft',\n",
              "  '$2,378'),\n",
              " ('The Avenue Hollywood',\n",
              "  'A few minutes from Hollywood High School. Patio and balconies. Amenities include volleyball and tennis court, playground, pool, hot tub and clubhouse. Guest suites available. Updated appliances and granite countertops. Pet-friendly.',\n",
              "  '1619 N La Brea Ave',\n",
              "  'Los Angeles',\n",
              "  '1 Bedroom',\n",
              "  '997 sqft',\n",
              "  '$3,100'),\n",
              " ('The Avenue Hollywood',\n",
              "  'A few minutes from Hollywood High School. Patio and balconies. Amenities include volleyball and tennis court, playground, pool, hot tub and clubhouse. Guest suites available. Updated appliances and granite countertops. Pet-friendly.',\n",
              "  '1619 N La Brea Ave',\n",
              "  'Los Angeles',\n",
              "  '2 Bedrooms',\n",
              "  '1297 sqft',\n",
              "  '$4,435'),\n",
              " ('La Belle at Hollywood Tower',\n",
              "  'Includes balcony, den and loft. Large nine- to 20-foot-high vaulted ceilings. Private outdoor space in every unit. Kitchen has stainless steel appliances, dishwasher and microwave.',\n",
              "  '6138 Franklin Ave',\n",
              "  'Los Angeles',\n",
              "  'Studio',\n",
              "  '603 sqft',\n",
              "  '$2,174'),\n",
              " ('La Belle at Hollywood Tower',\n",
              "  'Includes balcony, den and loft. Large nine- to 20-foot-high vaulted ceilings. Private outdoor space in every unit. Kitchen has stainless steel appliances, dishwasher and microwave.',\n",
              "  '6138 Franklin Ave',\n",
              "  'Los Angeles',\n",
              "  '1 Bedroom',\n",
              "  '805 sqft',\n",
              "  '$2,601'),\n",
              " ('La Belle at Hollywood Tower',\n",
              "  'Includes balcony, den and loft. Large nine- to 20-foot-high vaulted ceilings. Private outdoor space in every unit. Kitchen has stainless steel appliances, dishwasher and microwave.',\n",
              "  '6138 Franklin Ave',\n",
              "  'Los Angeles',\n",
              "  '2 Bedrooms',\n",
              "  '1126 sqft',\n",
              "  '$3,587'),\n",
              " ('Alister Sherman Oaks',\n",
              "  'Pet-friendly apartments have upgraded kitchens, granite counters, hardwoods, fireplace, walk-in closets and patio/balcony. Community pool, gym and grill. Walk to shopping, dining and entertainment. Easy access to San Diego Freeway, Westside, Burbank and Silicon Beach.',\n",
              "  '4440 Sepulveda Blvd',\n",
              "  'Los Angeles',\n",
              "  '2 Bedrooms',\n",
              "  '997 sqft',\n",
              "  '$2,844'),\n",
              " ('5800 Harold',\n",
              "  'Modern Hollywood apartments put you near myriad dining and entertainment options. Choose from studio to three-bedroom units and even penthouses, with 9-foot ceilings and stainless steel appliances. Enjoy rooftop lounge with BBQ and fire pit.',\n",
              "  '5800 Harold Way',\n",
              "  'Los Angeles',\n",
              "  'Studio',\n",
              "  '546 sqft',\n",
              "  '$2,250'),\n",
              " ('5800 Harold',\n",
              "  'Modern Hollywood apartments put you near myriad dining and entertainment options. Choose from studio to three-bedroom units and even penthouses, with 9-foot ceilings and stainless steel appliances. Enjoy rooftop lounge with BBQ and fire pit.',\n",
              "  '5800 Harold Way',\n",
              "  'Los Angeles',\n",
              "  '2 Bedrooms',\n",
              "  '1108 sqft',\n",
              "  '$3,395'),\n",
              " ('5800 Harold',\n",
              "  'Modern Hollywood apartments put you near myriad dining and entertainment options. Choose from studio to three-bedroom units and even penthouses, with 9-foot ceilings and stainless steel appliances. Enjoy rooftop lounge with BBQ and fire pit.',\n",
              "  '5800 Harold Way',\n",
              "  'Los Angeles',\n",
              "  '3 Bedrooms',\n",
              "  '1332 sqft',\n",
              "  '$4,095'),\n",
              " ('Chatsworth Pointe',\n",
              "  'Very close to local Metro bus line, and near Chatsworth Reservoir and Chatsworth Oaks Park. Recently renovated one- and two-bedroom apartments come with air conditioning, fireplace, all appliances, and walk-in closets. On-site pool, gym, more.',\n",
              "  '8900 Topanga Canyon Blvd',\n",
              "  'Los Angeles',\n",
              "  'Studio',\n",
              "  '450 sqft',\n",
              "  '$1,570'),\n",
              " ('Chatsworth Pointe',\n",
              "  'Very close to local Metro bus line, and near Chatsworth Reservoir and Chatsworth Oaks Park. Recently renovated one- and two-bedroom apartments come with air conditioning, fireplace, all appliances, and walk-in closets. On-site pool, gym, more.',\n",
              "  '8900 Topanga Canyon Blvd',\n",
              "  'Los Angeles',\n",
              "  '1 Bedroom',\n",
              "  '688 sqft',\n",
              "  '$1,630'),\n",
              " ('Chatsworth Pointe',\n",
              "  'Very close to local Metro bus line, and near Chatsworth Reservoir and Chatsworth Oaks Park. Recently renovated one- and two-bedroom apartments come with air conditioning, fireplace, all appliances, and walk-in closets. On-site pool, gym, more.',\n",
              "  '8900 Topanga Canyon Blvd',\n",
              "  'Los Angeles',\n",
              "  '2 Bedrooms',\n",
              "  '938 sqft',\n",
              "  '$2,280'),\n",
              " ('Sunset Vine Tower',\n",
              "  'Loft-style and two-bedroom homes with amazing views, modern kitchens, granite counters, in-unit laundry. Pet-friendly community with pool, fitness center, garage parking. Shopping, dining, entertainment of W. Sunset Blvd. Access to Metro local line, Hollywood Freeway.',\n",
              "  '1480 Vine St',\n",
              "  'Los Angeles',\n",
              "  '1 Bedroom',\n",
              "  '1069 sqft',\n",
              "  '$3,832'),\n",
              " ('The LC',\n",
              "  'Central Park, The Grove and the Hollywood Forever Cemetery are easily accessed from this community. Property features include a lounge, theater, business center and rooftop deck. Apartments include alarm systems, satellite television and walk-in closets.',\n",
              "  '710 N El Centro Ave',\n",
              "  'Los Angeles',\n",
              "  '1 Bedroom',\n",
              "  '826 sqft',\n",
              "  '$2,550'),\n",
              " ('The LC',\n",
              "  'Central Park, The Grove and the Hollywood Forever Cemetery are easily accessed from this community. Property features include a lounge, theater, business center and rooftop deck. Apartments include alarm systems, satellite television and walk-in closets.',\n",
              "  '710 N El Centro Ave',\n",
              "  'Los Angeles',\n",
              "  '2 Bedrooms',\n",
              "  '1125 sqft',\n",
              "  '$3,425'),\n",
              " ('Piero',\n",
              "  'The Piero is the most prestigious address, in urban-style elegance, that Los Angeles, California has to offer. Experience gracious, apartment living in the heart of downtown.',\n",
              "  '616 St Paul Ave',\n",
              "  'Los Angeles',\n",
              "  'Studio',\n",
              "  '528 sqft',\n",
              "  '$2,112'),\n",
              " ('Piero',\n",
              "  'The Piero is the most prestigious address, in urban-style elegance, that Los Angeles, California has to offer. Experience gracious, apartment living in the heart of downtown.',\n",
              "  '616 St Paul Ave',\n",
              "  'Los Angeles',\n",
              "  '1 Bedroom',\n",
              "  '670 sqft',\n",
              "  '$2,114'),\n",
              " ('Piero',\n",
              "  'The Piero is the most prestigious address, in urban-style elegance, that Los Angeles, California has to offer. Experience gracious, apartment living in the heart of downtown.',\n",
              "  '616 St Paul Ave',\n",
              "  'Los Angeles',\n",
              "  '2 Bedrooms',\n",
              "  '1134 sqft',\n",
              "  '$3,113'),\n",
              " ('Cornerstone',\n",
              "  'Charming, updated luxury apartments near 118 and 101. Recently renovated to include hardwood floors, fireplaces and new carpeting. Furnished properties available. On-site amenities include pools, a gym and a hot tub area.',\n",
              "  '8609 De Soto Ave',\n",
              "  'Los Angeles',\n",
              "  '1 Bedroom',\n",
              "  '623 sqft',\n",
              "  '$1,595'),\n",
              " ('Cornerstone',\n",
              "  'Charming, updated luxury apartments near 118 and 101. Recently renovated to include hardwood floors, fireplaces and new carpeting. Furnished properties available. On-site amenities include pools, a gym and a hot tub area.',\n",
              "  '8609 De Soto Ave',\n",
              "  'Los Angeles',\n",
              "  '2 Bedrooms',\n",
              "  '867 sqft',\n",
              "  '$1,905'),\n",
              " ('Lake Balboa',\n",
              "  'Townhome Village Apartment in Los Angeles is ready to be your home. Located at 15716 Saticoy St. in Los Angeles, this community has much to offer its residents.',\n",
              "  '15716 Saticoy Street',\n",
              "  'Los Angeles',\n",
              "  '1 Bedroom',\n",
              "  '578 sqft',\n",
              "  '$1,850'),\n",
              " ('Lake Balboa',\n",
              "  'Townhome Village Apartment in Los Angeles is ready to be your home. Located at 15716 Saticoy St. in Los Angeles, this community has much to offer its residents.',\n",
              "  '15716 Saticoy Street',\n",
              "  'Los Angeles',\n",
              "  '2 Bedrooms',\n",
              "  '836 sqft',\n",
              "  '$2,400'),\n",
              " ('Twenty2Eleven Apartments',\n",
              "  'Close to shopping at Northridge Mall, Topanga Plaza and the Promenade. Community amenities include on-site laundry, pool, and BBQ grill. Units feature dishwasher, extra storage and fireplace.',\n",
              "  '20211 Sherman Way',\n",
              "  'Los Angeles',\n",
              "  '1 Bedroom',\n",
              "  '724 sqft',\n",
              "  '$1,645'),\n",
              " ('Orsini',\n",
              "  'Imagine a home where the fine art of living has been perfected. Welcome to The Orsini, home to the best apartments in downtown Los Angeles.',\n",
              "  '505 N Figueroa St',\n",
              "  'Los Angeles',\n",
              "  'Studio',\n",
              "  '479 sqft',\n",
              "  '$2,058'),\n",
              " ('Orsini',\n",
              "  'Imagine a home where the fine art of living has been perfected. Welcome to The Orsini, home to the best apartments in downtown Los Angeles.',\n",
              "  '505 N Figueroa St',\n",
              "  'Los Angeles',\n",
              "  '1 Bedroom',\n",
              "  '733 sqft',\n",
              "  '$1,764'),\n",
              " ('Orsini',\n",
              "  'Imagine a home where the fine art of living has been perfected. Welcome to The Orsini, home to the best apartments in downtown Los Angeles.',\n",
              "  '505 N Figueroa St',\n",
              "  'Los Angeles',\n",
              "  '2 Bedrooms',\n",
              "  '1036 sqft',\n",
              "  '$2,600'),\n",
              " ('Independence Plaza',\n",
              "  'Vibrant community near Cal State University. Recently renovated with walk-in closets, updated appliances and extra storage. This pet-friendly property also offers a pool, gym, hot tub and grill area.',\n",
              "  '8735 Independence Ave',\n",
              "  'Los Angeles',\n",
              "  'Studio',\n",
              "  '504 sqft',\n",
              "  '$1,595'),\n",
              " ('Independence Plaza',\n",
              "  'Vibrant community near Cal State University. Recently renovated with walk-in closets, updated appliances and extra storage. This pet-friendly property also offers a pool, gym, hot tub and grill area.',\n",
              "  '8735 Independence Ave',\n",
              "  'Los Angeles',\n",
              "  '1 Bedroom',\n",
              "  '740 sqft',\n",
              "  '$1,775'),\n",
              " ('Independence Plaza',\n",
              "  'Vibrant community near Cal State University. Recently renovated with walk-in closets, updated appliances and extra storage. This pet-friendly property also offers a pool, gym, hot tub and grill area.',\n",
              "  '8735 Independence Ave',\n",
              "  'Los Angeles',\n",
              "  '2 Bedrooms',\n",
              "  '887 sqft',\n",
              "  '$2,180'),\n",
              " ('Citronia',\n",
              "  'This property offers residents covered parking, a business center, pool and on-site laundry. Apartments feature air conditioning, fireplaces and patios/balconies. Northridge Shopping Center and California State University are both nearby.',\n",
              "  '18550 Citronia St',\n",
              "  'Los Angeles',\n",
              "  '1 Bedroom',\n",
              "  '750 sqft',\n",
              "  '$1,599'),\n",
              " ('Citronia',\n",
              "  'This property offers residents covered parking, a business center, pool and on-site laundry. Apartments feature air conditioning, fireplaces and patios/balconies. Northridge Shopping Center and California State University are both nearby.',\n",
              "  '18550 Citronia St',\n",
              "  'Los Angeles',\n",
              "  '3 Bedrooms',\n",
              "  '975 sqft',\n",
              "  '$2,460'),\n",
              " ('BROADWAY PALACE APARTMENTS',\n",
              "  'The Broadway Palace Apartments combine classic engineering with all the fine amenities of contemporary living. Our downtown apartments feature quality luxuries that are second to none.',\n",
              "  '928 South Broadway',\n",
              "  'Los Angeles',\n",
              "  '1 Bedroom',\n",
              "  '678 sqft',\n",
              "  '$2,121'),\n",
              " ('BROADWAY PALACE APARTMENTS',\n",
              "  'The Broadway Palace Apartments combine classic engineering with all the fine amenities of contemporary living. Our downtown apartments feature quality luxuries that are second to none.',\n",
              "  '928 South Broadway',\n",
              "  'Los Angeles',\n",
              "  '2 Bedrooms',\n",
              "  '1062 sqft',\n",
              "  '$2,807'),\n",
              " ('Jia',\n",
              "  'Conveniently located close to shops, restaurants and local bus lines. Right at entrance to Chinatown and next to Starbucks. Studio, one- and two-bedroom apartments feature stainless steel appliances, air conditioning, walk-in closets and in-unit laundry.',\n",
              "  '639 N Broadway',\n",
              "  'Los Angeles',\n",
              "  'Studio',\n",
              "  '631 sqft',\n",
              "  '$1,932'),\n",
              " ('Jia',\n",
              "  'Conveniently located close to shops, restaurants and local bus lines. Right at entrance to Chinatown and next to Starbucks. Studio, one- and two-bedroom apartments feature stainless steel appliances, air conditioning, walk-in closets and in-unit laundry.',\n",
              "  '639 N Broadway',\n",
              "  'Los Angeles',\n",
              "  '1 Bedroom',\n",
              "  '742 sqft',\n",
              "  '$2,119'),\n",
              " ('Jia',\n",
              "  'Conveniently located close to shops, restaurants and local bus lines. Right at entrance to Chinatown and next to Starbucks. Studio, one- and two-bedroom apartments feature stainless steel appliances, air conditioning, walk-in closets and in-unit laundry.',\n",
              "  '639 N Broadway',\n",
              "  'Los Angeles',\n",
              "  '2 Bedrooms',\n",
              "  '1242 sqft',\n",
              "  '$2,989'),\n",
              " ('Radius Koreatown',\n",
              "  'The Koreatown Plaza and MacArthur Park share a neighborhood with this community. Residents enjoy rooftop cabanas, stunning city views, a heated pool and an EV charging station. Units feature floor-to-ceiling windows and built-in Bluetooth speakers.',\n",
              "  '680 S Berendo St',\n",
              "  'Los Angeles',\n",
              "  'Studio',\n",
              "  '523 sqft',\n",
              "  '$1,930'),\n",
              " ('Radius Koreatown',\n",
              "  'The Koreatown Plaza and MacArthur Park share a neighborhood with this community. Residents enjoy rooftop cabanas, stunning city views, a heated pool and an EV charging station. Units feature floor-to-ceiling windows and built-in Bluetooth speakers.',\n",
              "  '680 S Berendo St',\n",
              "  'Los Angeles',\n",
              "  '1 Bedroom',\n",
              "  '661 sqft',\n",
              "  '$2,107'),\n",
              " ('Radius Koreatown',\n",
              "  'The Koreatown Plaza and MacArthur Park share a neighborhood with this community. Residents enjoy rooftop cabanas, stunning city views, a heated pool and an EV charging station. Units feature floor-to-ceiling windows and built-in Bluetooth speakers.',\n",
              "  '680 S Berendo St',\n",
              "  'Los Angeles',\n",
              "  '2 Bedrooms',\n",
              "  '1096 sqft',\n",
              "  '$3,471'),\n",
              " ('Circa LA',\n",
              "  'Temporary Leasing Gallery is located at 1201 South Grand Avenue\\n\\\\n\\n\\\\n\\nCirca is a new collection of luxury apartments, unlike anything Downtown Los Angelos has seen before.',\n",
              "  '1200 S Figueroa St',\n",
              "  'Los Angeles',\n",
              "  '1 Bedroom',\n",
              "  '798 sqft',\n",
              "  '$2,810'),\n",
              " ('Circa LA',\n",
              "  'Temporary Leasing Gallery is located at 1201 South Grand Avenue\\n\\\\n\\n\\\\n\\nCirca is a new collection of luxury apartments, unlike anything Downtown Los Angelos has seen before.',\n",
              "  '1200 S Figueroa St',\n",
              "  'Los Angeles',\n",
              "  '2 Bedrooms',\n",
              "  '1706 sqft',\n",
              "  '$4,950'),\n",
              " ('Circa LA',\n",
              "  'Temporary Leasing Gallery is located at 1201 South Grand Avenue\\n\\\\n\\n\\\\n\\nCirca is a new collection of luxury apartments, unlike anything Downtown Los Angelos has seen before.',\n",
              "  '1200 S Figueroa St',\n",
              "  'Los Angeles',\n",
              "  '3 Bedrooms',\n",
              "  '3360 sqft',\n",
              "  '$17,590'),\n",
              " ('THEA at Metropolis',\n",
              "  'THEA at Metropolis is perfectly positioned to elevate your DTLA experience – with all the amenities and activities right outside your door. Come see for yourself!',\n",
              "  '1000 West 8th Street',\n",
              "  'Los Angeles',\n",
              "  'Studio',\n",
              "  '547 sqft',\n",
              "  '$2,915'),\n",
              " ('THEA at Metropolis',\n",
              "  'THEA at Metropolis is perfectly positioned to elevate your DTLA experience – with all the amenities and activities right outside your door. Come see for yourself!',\n",
              "  '1000 West 8th Street',\n",
              "  'Los Angeles',\n",
              "  '1 Bedroom',\n",
              "  '928 sqft',\n",
              "  '$4,249'),\n",
              " ('THEA at Metropolis',\n",
              "  'THEA at Metropolis is perfectly positioned to elevate your DTLA experience – with all the amenities and activities right outside your door. Come see for yourself!',\n",
              "  '1000 West 8th Street',\n",
              "  'Los Angeles',\n",
              "  '2 Bedrooms',\n",
              "  '1383 sqft',\n",
              "  '$6,954'),\n",
              " ('Linea',\n",
              "  'Welcome to Linea. Sophisticated apartment residences and stylish social amenities coming together in one of L.A.’s most energetic locations.',\n",
              "  '2455 S Sepulveda Blvd Unit 100',\n",
              "  'Los Angeles',\n",
              "  'Studio',\n",
              "  '506 sqft',\n",
              "  '$2,795'),\n",
              " ('Linea',\n",
              "  'Welcome to Linea. Sophisticated apartment residences and stylish social amenities coming together in one of L.A.’s most energetic locations.',\n",
              "  '2455 S Sepulveda Blvd Unit 100',\n",
              "  'Los Angeles',\n",
              "  '1 Bedroom',\n",
              "  '676 sqft',\n",
              "  '$2,930'),\n",
              " ('Linea',\n",
              "  'Welcome to Linea. Sophisticated apartment residences and stylish social amenities coming together in one of L.A.’s most energetic locations.',\n",
              "  '2455 S Sepulveda Blvd Unit 100',\n",
              "  'Los Angeles',\n",
              "  '2 Bedrooms',\n",
              "  '1338 sqft',\n",
              "  '$4,328'),\n",
              " ('Mira',\n",
              "  'Experience an eccentric modern oasis that is in a league of its own at the heart of Warner Center, LA’s fastest growing community. Mira Warner Center fuses contemporary design and deluxe amenities with a metro vibe.',\n",
              "  '21425 Vanowen Street',\n",
              "  'Los Angeles',\n",
              "  'Studio',\n",
              "  '654 sqft',\n",
              "  '$2,140'),\n",
              " ('Mira',\n",
              "  'Experience an eccentric modern oasis that is in a league of its own at the heart of Warner Center, LA’s fastest growing community. Mira Warner Center fuses contemporary design and deluxe amenities with a metro vibe.',\n",
              "  '21425 Vanowen Street',\n",
              "  'Los Angeles',\n",
              "  '1 Bedroom',\n",
              "  '863 sqft',\n",
              "  '$2,200'),\n",
              " ('Mira',\n",
              "  'Experience an eccentric modern oasis that is in a league of its own at the heart of Warner Center, LA’s fastest growing community. Mira Warner Center fuses contemporary design and deluxe amenities with a metro vibe.',\n",
              "  '21425 Vanowen Street',\n",
              "  'Los Angeles',\n",
              "  '2 Bedrooms',\n",
              "  '1046 sqft',\n",
              "  '$2,700'),\n",
              " ('The Hesby',\n",
              "  'Pet-friendly one-, two- and three-bedroom apartments in North Hollywood. Walk to shopping, dining, entertainment. Access Metro Red Line, the 101, 134, 170. Enjoy modern kitchens, granite and quartz counters, hardwoods and in-unit laundry. Pool, sauna.',\n",
              "  '5031 Fair Ave',\n",
              "  'Los Angeles',\n",
              "  'Studio',\n",
              "  '588 sqft',\n",
              "  '$2,128'),\n",
              " ('The Hesby',\n",
              "  'Pet-friendly one-, two- and three-bedroom apartments in North Hollywood. Walk to shopping, dining, entertainment. Access Metro Red Line, the 101, 134, 170. Enjoy modern kitchens, granite and quartz counters, hardwoods and in-unit laundry. Pool, sauna.',\n",
              "  '5031 Fair Ave',\n",
              "  'Los Angeles',\n",
              "  '1 Bedroom',\n",
              "  '772 sqft',\n",
              "  '$2,264'),\n",
              " ('The Hesby',\n",
              "  'Pet-friendly one-, two- and three-bedroom apartments in North Hollywood. Walk to shopping, dining, entertainment. Access Metro Red Line, the 101, 134, 170. Enjoy modern kitchens, granite and quartz counters, hardwoods and in-unit laundry. Pool, sauna.',\n",
              "  '5031 Fair Ave',\n",
              "  'Los Angeles',\n",
              "  '2 Bedrooms',\n",
              "  '1165 sqft',\n",
              "  '$2,838')]"
            ]
          },
          "metadata": {
            "tags": []
          },
          "execution_count": 11
        }
      ]
    },
    {
      "cell_type": "markdown",
      "metadata": {
        "id": "ia44xRe3JRX8",
        "colab_type": "text"
      },
      "source": [
        "## Bundle up the logic so that it can be applied to multiple pages"
      ]
    },
    {
      "cell_type": "code",
      "metadata": {
        "id": "WPBBKc7lzAK4",
        "colab_type": "code",
        "colab": {}
      },
      "source": [
        "def scrape_page(num):\n",
        "    base = f'https://www.apartmentlist.com/ca/los-angeles'\n",
        "    url = f'{base}/page-{str(num)}'\n",
        "    html = get(url)\n",
        "    soup = Soup(html)\n",
        "    rows = soup.find('div', {'class': 'ListingCard'})\n",
        "    data = []\n",
        "    for row in rows:\n",
        "        try: \n",
        "            data.extend(parse_row(row))\n",
        "        except AttributeError:\n",
        "            pass\n",
        "    return data"
      ],
      "execution_count": 0,
      "outputs": []
    },
    {
      "cell_type": "code",
      "metadata": {
        "id": "UtBF08RM0FLV",
        "colab_type": "code",
        "colab": {
          "base_uri": "https://localhost:8080/",
          "height": 1000
        },
        "outputId": "1dfa0d8c-a8f4-487a-826e-ee2e55fcd143"
      },
      "source": [
        "scrape_page(1)"
      ],
      "execution_count": 13,
      "outputs": [
        {
          "output_type": "execute_result",
          "data": {
            "text/plain": [
              "[('Northview-Southview Apartments',\n",
              "  'Studio, one- and two-bedroom apartments in pet-friendly community with pool, gym, elevator, bbq/grill, carport. Modern kitchen, hardwoods, walk-in closets, patio/balcony. Near California State, Northridge, shopping, dining, entertainment (Burbank). Easy access to the 405 and 101.',\n",
              "  '8111 Reseda Blvd',\n",
              "  'Los Angeles',\n",
              "  'Studio',\n",
              "  '450 sqft',\n",
              "  '$1,480'),\n",
              " ('Northview-Southview Apartments',\n",
              "  'Studio, one- and two-bedroom apartments in pet-friendly community with pool, gym, elevator, bbq/grill, carport. Modern kitchen, hardwoods, walk-in closets, patio/balcony. Near California State, Northridge, shopping, dining, entertainment (Burbank). Easy access to the 405 and 101.',\n",
              "  '8111 Reseda Blvd',\n",
              "  'Los Angeles',\n",
              "  '1 Bedroom',\n",
              "  '687 sqft',\n",
              "  '$1,595'),\n",
              " ('Northview-Southview Apartments',\n",
              "  'Studio, one- and two-bedroom apartments in pet-friendly community with pool, gym, elevator, bbq/grill, carport. Modern kitchen, hardwoods, walk-in closets, patio/balcony. Near California State, Northridge, shopping, dining, entertainment (Burbank). Easy access to the 405 and 101.',\n",
              "  '8111 Reseda Blvd',\n",
              "  'Los Angeles',\n",
              "  '2 Bedrooms',\n",
              "  '953 sqft',\n",
              "  '$1,945'),\n",
              " ('Triana',\n",
              "  'This funky apartment complex sits above shops and restaurants, with access to two local bus lines nearby. Luxury one- to three-bedroom residences with granite counters and walk-in closets. Community amenities include a pool and clubhouse.',\n",
              "  '6250 Canoga Ave',\n",
              "  'Los Angeles',\n",
              "  '1 Bedroom',\n",
              "  '836 sqft',\n",
              "  '$2,102'),\n",
              " ('Triana',\n",
              "  'This funky apartment complex sits above shops and restaurants, with access to two local bus lines nearby. Luxury one- to three-bedroom residences with granite counters and walk-in closets. Community amenities include a pool and clubhouse.',\n",
              "  '6250 Canoga Ave',\n",
              "  'Los Angeles',\n",
              "  '2 Bedrooms',\n",
              "  '1201 sqft',\n",
              "  '$2,378'),\n",
              " ('The Avenue Hollywood',\n",
              "  'A few minutes from Hollywood High School. Patio and balconies. Amenities include volleyball and tennis court, playground, pool, hot tub and clubhouse. Guest suites available. Updated appliances and granite countertops. Pet-friendly.',\n",
              "  '1619 N La Brea Ave',\n",
              "  'Los Angeles',\n",
              "  '1 Bedroom',\n",
              "  '997 sqft',\n",
              "  '$3,100'),\n",
              " ('The Avenue Hollywood',\n",
              "  'A few minutes from Hollywood High School. Patio and balconies. Amenities include volleyball and tennis court, playground, pool, hot tub and clubhouse. Guest suites available. Updated appliances and granite countertops. Pet-friendly.',\n",
              "  '1619 N La Brea Ave',\n",
              "  'Los Angeles',\n",
              "  '2 Bedrooms',\n",
              "  '1297 sqft',\n",
              "  '$4,435'),\n",
              " ('La Belle at Hollywood Tower',\n",
              "  'Includes balcony, den and loft. Large nine- to 20-foot-high vaulted ceilings. Private outdoor space in every unit. Kitchen has stainless steel appliances, dishwasher and microwave.',\n",
              "  '6138 Franklin Ave',\n",
              "  'Los Angeles',\n",
              "  'Studio',\n",
              "  '603 sqft',\n",
              "  '$2,174'),\n",
              " ('La Belle at Hollywood Tower',\n",
              "  'Includes balcony, den and loft. Large nine- to 20-foot-high vaulted ceilings. Private outdoor space in every unit. Kitchen has stainless steel appliances, dishwasher and microwave.',\n",
              "  '6138 Franklin Ave',\n",
              "  'Los Angeles',\n",
              "  '1 Bedroom',\n",
              "  '805 sqft',\n",
              "  '$2,601'),\n",
              " ('La Belle at Hollywood Tower',\n",
              "  'Includes balcony, den and loft. Large nine- to 20-foot-high vaulted ceilings. Private outdoor space in every unit. Kitchen has stainless steel appliances, dishwasher and microwave.',\n",
              "  '6138 Franklin Ave',\n",
              "  'Los Angeles',\n",
              "  '2 Bedrooms',\n",
              "  '1126 sqft',\n",
              "  '$3,587'),\n",
              " ('Alister Sherman Oaks',\n",
              "  'Pet-friendly apartments have upgraded kitchens, granite counters, hardwoods, fireplace, walk-in closets and patio/balcony. Community pool, gym and grill. Walk to shopping, dining and entertainment. Easy access to San Diego Freeway, Westside, Burbank and Silicon Beach.',\n",
              "  '4440 Sepulveda Blvd',\n",
              "  'Los Angeles',\n",
              "  '2 Bedrooms',\n",
              "  '997 sqft',\n",
              "  '$2,844'),\n",
              " ('5800 Harold',\n",
              "  'Modern Hollywood apartments put you near myriad dining and entertainment options. Choose from studio to three-bedroom units and even penthouses, with 9-foot ceilings and stainless steel appliances. Enjoy rooftop lounge with BBQ and fire pit.',\n",
              "  '5800 Harold Way',\n",
              "  'Los Angeles',\n",
              "  'Studio',\n",
              "  '546 sqft',\n",
              "  '$2,250'),\n",
              " ('5800 Harold',\n",
              "  'Modern Hollywood apartments put you near myriad dining and entertainment options. Choose from studio to three-bedroom units and even penthouses, with 9-foot ceilings and stainless steel appliances. Enjoy rooftop lounge with BBQ and fire pit.',\n",
              "  '5800 Harold Way',\n",
              "  'Los Angeles',\n",
              "  '2 Bedrooms',\n",
              "  '1108 sqft',\n",
              "  '$3,395'),\n",
              " ('5800 Harold',\n",
              "  'Modern Hollywood apartments put you near myriad dining and entertainment options. Choose from studio to three-bedroom units and even penthouses, with 9-foot ceilings and stainless steel appliances. Enjoy rooftop lounge with BBQ and fire pit.',\n",
              "  '5800 Harold Way',\n",
              "  'Los Angeles',\n",
              "  '3 Bedrooms',\n",
              "  '1332 sqft',\n",
              "  '$4,095'),\n",
              " ('Chatsworth Pointe',\n",
              "  'Very close to local Metro bus line, and near Chatsworth Reservoir and Chatsworth Oaks Park. Recently renovated one- and two-bedroom apartments come with air conditioning, fireplace, all appliances, and walk-in closets. On-site pool, gym, more.',\n",
              "  '8900 Topanga Canyon Blvd',\n",
              "  'Los Angeles',\n",
              "  'Studio',\n",
              "  '450 sqft',\n",
              "  '$1,570'),\n",
              " ('Chatsworth Pointe',\n",
              "  'Very close to local Metro bus line, and near Chatsworth Reservoir and Chatsworth Oaks Park. Recently renovated one- and two-bedroom apartments come with air conditioning, fireplace, all appliances, and walk-in closets. On-site pool, gym, more.',\n",
              "  '8900 Topanga Canyon Blvd',\n",
              "  'Los Angeles',\n",
              "  '1 Bedroom',\n",
              "  '688 sqft',\n",
              "  '$1,630'),\n",
              " ('Chatsworth Pointe',\n",
              "  'Very close to local Metro bus line, and near Chatsworth Reservoir and Chatsworth Oaks Park. Recently renovated one- and two-bedroom apartments come with air conditioning, fireplace, all appliances, and walk-in closets. On-site pool, gym, more.',\n",
              "  '8900 Topanga Canyon Blvd',\n",
              "  'Los Angeles',\n",
              "  '2 Bedrooms',\n",
              "  '938 sqft',\n",
              "  '$2,280'),\n",
              " ('Sunset Vine Tower',\n",
              "  'Loft-style and two-bedroom homes with amazing views, modern kitchens, granite counters, in-unit laundry. Pet-friendly community with pool, fitness center, garage parking. Shopping, dining, entertainment of W. Sunset Blvd. Access to Metro local line, Hollywood Freeway.',\n",
              "  '1480 Vine St',\n",
              "  'Los Angeles',\n",
              "  '1 Bedroom',\n",
              "  '1069 sqft',\n",
              "  '$3,832'),\n",
              " ('The LC',\n",
              "  'Central Park, The Grove and the Hollywood Forever Cemetery are easily accessed from this community. Property features include a lounge, theater, business center and rooftop deck. Apartments include alarm systems, satellite television and walk-in closets.',\n",
              "  '710 N El Centro Ave',\n",
              "  'Los Angeles',\n",
              "  '1 Bedroom',\n",
              "  '826 sqft',\n",
              "  '$2,550'),\n",
              " ('The LC',\n",
              "  'Central Park, The Grove and the Hollywood Forever Cemetery are easily accessed from this community. Property features include a lounge, theater, business center and rooftop deck. Apartments include alarm systems, satellite television and walk-in closets.',\n",
              "  '710 N El Centro Ave',\n",
              "  'Los Angeles',\n",
              "  '2 Bedrooms',\n",
              "  '1125 sqft',\n",
              "  '$3,425'),\n",
              " ('Piero',\n",
              "  'The Piero is the most prestigious address, in urban-style elegance, that Los Angeles, California has to offer. Experience gracious, apartment living in the heart of downtown.',\n",
              "  '616 St Paul Ave',\n",
              "  'Los Angeles',\n",
              "  'Studio',\n",
              "  '528 sqft',\n",
              "  '$2,112'),\n",
              " ('Piero',\n",
              "  'The Piero is the most prestigious address, in urban-style elegance, that Los Angeles, California has to offer. Experience gracious, apartment living in the heart of downtown.',\n",
              "  '616 St Paul Ave',\n",
              "  'Los Angeles',\n",
              "  '1 Bedroom',\n",
              "  '670 sqft',\n",
              "  '$2,114'),\n",
              " ('Piero',\n",
              "  'The Piero is the most prestigious address, in urban-style elegance, that Los Angeles, California has to offer. Experience gracious, apartment living in the heart of downtown.',\n",
              "  '616 St Paul Ave',\n",
              "  'Los Angeles',\n",
              "  '2 Bedrooms',\n",
              "  '1134 sqft',\n",
              "  '$3,113'),\n",
              " ('Cornerstone',\n",
              "  'Charming, updated luxury apartments near 118 and 101. Recently renovated to include hardwood floors, fireplaces and new carpeting. Furnished properties available. On-site amenities include pools, a gym and a hot tub area.',\n",
              "  '8609 De Soto Ave',\n",
              "  'Los Angeles',\n",
              "  '1 Bedroom',\n",
              "  '623 sqft',\n",
              "  '$1,595'),\n",
              " ('Cornerstone',\n",
              "  'Charming, updated luxury apartments near 118 and 101. Recently renovated to include hardwood floors, fireplaces and new carpeting. Furnished properties available. On-site amenities include pools, a gym and a hot tub area.',\n",
              "  '8609 De Soto Ave',\n",
              "  'Los Angeles',\n",
              "  '2 Bedrooms',\n",
              "  '867 sqft',\n",
              "  '$1,905'),\n",
              " ('Lake Balboa',\n",
              "  'Townhome Village Apartment in Los Angeles is ready to be your home. Located at 15716 Saticoy St. in Los Angeles, this community has much to offer its residents.',\n",
              "  '15716 Saticoy Street',\n",
              "  'Los Angeles',\n",
              "  '1 Bedroom',\n",
              "  '578 sqft',\n",
              "  '$1,850'),\n",
              " ('Lake Balboa',\n",
              "  'Townhome Village Apartment in Los Angeles is ready to be your home. Located at 15716 Saticoy St. in Los Angeles, this community has much to offer its residents.',\n",
              "  '15716 Saticoy Street',\n",
              "  'Los Angeles',\n",
              "  '2 Bedrooms',\n",
              "  '836 sqft',\n",
              "  '$2,400'),\n",
              " ('Twenty2Eleven Apartments',\n",
              "  'Close to shopping at Northridge Mall, Topanga Plaza and the Promenade. Community amenities include on-site laundry, pool, and BBQ grill. Units feature dishwasher, extra storage and fireplace.',\n",
              "  '20211 Sherman Way',\n",
              "  'Los Angeles',\n",
              "  '1 Bedroom',\n",
              "  '724 sqft',\n",
              "  '$1,645'),\n",
              " ('Orsini',\n",
              "  'Imagine a home where the fine art of living has been perfected. Welcome to The Orsini, home to the best apartments in downtown Los Angeles.',\n",
              "  '505 N Figueroa St',\n",
              "  'Los Angeles',\n",
              "  'Studio',\n",
              "  '479 sqft',\n",
              "  '$2,058'),\n",
              " ('Orsini',\n",
              "  'Imagine a home where the fine art of living has been perfected. Welcome to The Orsini, home to the best apartments in downtown Los Angeles.',\n",
              "  '505 N Figueroa St',\n",
              "  'Los Angeles',\n",
              "  '1 Bedroom',\n",
              "  '733 sqft',\n",
              "  '$1,764'),\n",
              " ('Orsini',\n",
              "  'Imagine a home where the fine art of living has been perfected. Welcome to The Orsini, home to the best apartments in downtown Los Angeles.',\n",
              "  '505 N Figueroa St',\n",
              "  'Los Angeles',\n",
              "  '2 Bedrooms',\n",
              "  '1036 sqft',\n",
              "  '$2,600'),\n",
              " ('Independence Plaza',\n",
              "  'Vibrant community near Cal State University. Recently renovated with walk-in closets, updated appliances and extra storage. This pet-friendly property also offers a pool, gym, hot tub and grill area.',\n",
              "  '8735 Independence Ave',\n",
              "  'Los Angeles',\n",
              "  'Studio',\n",
              "  '504 sqft',\n",
              "  '$1,595'),\n",
              " ('Independence Plaza',\n",
              "  'Vibrant community near Cal State University. Recently renovated with walk-in closets, updated appliances and extra storage. This pet-friendly property also offers a pool, gym, hot tub and grill area.',\n",
              "  '8735 Independence Ave',\n",
              "  'Los Angeles',\n",
              "  '1 Bedroom',\n",
              "  '740 sqft',\n",
              "  '$1,775'),\n",
              " ('Independence Plaza',\n",
              "  'Vibrant community near Cal State University. Recently renovated with walk-in closets, updated appliances and extra storage. This pet-friendly property also offers a pool, gym, hot tub and grill area.',\n",
              "  '8735 Independence Ave',\n",
              "  'Los Angeles',\n",
              "  '2 Bedrooms',\n",
              "  '887 sqft',\n",
              "  '$2,180'),\n",
              " ('Citronia',\n",
              "  'This property offers residents covered parking, a business center, pool and on-site laundry. Apartments feature air conditioning, fireplaces and patios/balconies. Northridge Shopping Center and California State University are both nearby.',\n",
              "  '18550 Citronia St',\n",
              "  'Los Angeles',\n",
              "  '1 Bedroom',\n",
              "  '750 sqft',\n",
              "  '$1,599'),\n",
              " ('Citronia',\n",
              "  'This property offers residents covered parking, a business center, pool and on-site laundry. Apartments feature air conditioning, fireplaces and patios/balconies. Northridge Shopping Center and California State University are both nearby.',\n",
              "  '18550 Citronia St',\n",
              "  'Los Angeles',\n",
              "  '3 Bedrooms',\n",
              "  '975 sqft',\n",
              "  '$2,460'),\n",
              " ('BROADWAY PALACE APARTMENTS',\n",
              "  'The Broadway Palace Apartments combine classic engineering with all the fine amenities of contemporary living. Our downtown apartments feature quality luxuries that are second to none.',\n",
              "  '928 South Broadway',\n",
              "  'Los Angeles',\n",
              "  '1 Bedroom',\n",
              "  '678 sqft',\n",
              "  '$2,121'),\n",
              " ('BROADWAY PALACE APARTMENTS',\n",
              "  'The Broadway Palace Apartments combine classic engineering with all the fine amenities of contemporary living. Our downtown apartments feature quality luxuries that are second to none.',\n",
              "  '928 South Broadway',\n",
              "  'Los Angeles',\n",
              "  '2 Bedrooms',\n",
              "  '1062 sqft',\n",
              "  '$2,807'),\n",
              " ('Jia',\n",
              "  'Conveniently located close to shops, restaurants and local bus lines. Right at entrance to Chinatown and next to Starbucks. Studio, one- and two-bedroom apartments feature stainless steel appliances, air conditioning, walk-in closets and in-unit laundry.',\n",
              "  '639 N Broadway',\n",
              "  'Los Angeles',\n",
              "  'Studio',\n",
              "  '631 sqft',\n",
              "  '$1,932'),\n",
              " ('Jia',\n",
              "  'Conveniently located close to shops, restaurants and local bus lines. Right at entrance to Chinatown and next to Starbucks. Studio, one- and two-bedroom apartments feature stainless steel appliances, air conditioning, walk-in closets and in-unit laundry.',\n",
              "  '639 N Broadway',\n",
              "  'Los Angeles',\n",
              "  '1 Bedroom',\n",
              "  '742 sqft',\n",
              "  '$2,119'),\n",
              " ('Jia',\n",
              "  'Conveniently located close to shops, restaurants and local bus lines. Right at entrance to Chinatown and next to Starbucks. Studio, one- and two-bedroom apartments feature stainless steel appliances, air conditioning, walk-in closets and in-unit laundry.',\n",
              "  '639 N Broadway',\n",
              "  'Los Angeles',\n",
              "  '2 Bedrooms',\n",
              "  '1242 sqft',\n",
              "  '$2,989'),\n",
              " ('Radius Koreatown',\n",
              "  'The Koreatown Plaza and MacArthur Park share a neighborhood with this community. Residents enjoy rooftop cabanas, stunning city views, a heated pool and an EV charging station. Units feature floor-to-ceiling windows and built-in Bluetooth speakers.',\n",
              "  '680 S Berendo St',\n",
              "  'Los Angeles',\n",
              "  'Studio',\n",
              "  '523 sqft',\n",
              "  '$1,930'),\n",
              " ('Radius Koreatown',\n",
              "  'The Koreatown Plaza and MacArthur Park share a neighborhood with this community. Residents enjoy rooftop cabanas, stunning city views, a heated pool and an EV charging station. Units feature floor-to-ceiling windows and built-in Bluetooth speakers.',\n",
              "  '680 S Berendo St',\n",
              "  'Los Angeles',\n",
              "  '1 Bedroom',\n",
              "  '661 sqft',\n",
              "  '$2,107'),\n",
              " ('Radius Koreatown',\n",
              "  'The Koreatown Plaza and MacArthur Park share a neighborhood with this community. Residents enjoy rooftop cabanas, stunning city views, a heated pool and an EV charging station. Units feature floor-to-ceiling windows and built-in Bluetooth speakers.',\n",
              "  '680 S Berendo St',\n",
              "  'Los Angeles',\n",
              "  '2 Bedrooms',\n",
              "  '1096 sqft',\n",
              "  '$3,471'),\n",
              " ('Circa LA',\n",
              "  'Temporary Leasing Gallery is located at 1201 South Grand Avenue\\n\\\\n\\n\\\\n\\nCirca is a new collection of luxury apartments, unlike anything Downtown Los Angelos has seen before.',\n",
              "  '1200 S Figueroa St',\n",
              "  'Los Angeles',\n",
              "  '1 Bedroom',\n",
              "  '798 sqft',\n",
              "  '$2,810'),\n",
              " ('Circa LA',\n",
              "  'Temporary Leasing Gallery is located at 1201 South Grand Avenue\\n\\\\n\\n\\\\n\\nCirca is a new collection of luxury apartments, unlike anything Downtown Los Angelos has seen before.',\n",
              "  '1200 S Figueroa St',\n",
              "  'Los Angeles',\n",
              "  '2 Bedrooms',\n",
              "  '1706 sqft',\n",
              "  '$4,950'),\n",
              " ('Circa LA',\n",
              "  'Temporary Leasing Gallery is located at 1201 South Grand Avenue\\n\\\\n\\n\\\\n\\nCirca is a new collection of luxury apartments, unlike anything Downtown Los Angelos has seen before.',\n",
              "  '1200 S Figueroa St',\n",
              "  'Los Angeles',\n",
              "  '3 Bedrooms',\n",
              "  '3360 sqft',\n",
              "  '$17,590'),\n",
              " ('THEA at Metropolis',\n",
              "  'THEA at Metropolis is perfectly positioned to elevate your DTLA experience – with all the amenities and activities right outside your door. Come see for yourself!',\n",
              "  '1000 West 8th Street',\n",
              "  'Los Angeles',\n",
              "  'Studio',\n",
              "  '547 sqft',\n",
              "  '$2,915'),\n",
              " ('THEA at Metropolis',\n",
              "  'THEA at Metropolis is perfectly positioned to elevate your DTLA experience – with all the amenities and activities right outside your door. Come see for yourself!',\n",
              "  '1000 West 8th Street',\n",
              "  'Los Angeles',\n",
              "  '1 Bedroom',\n",
              "  '928 sqft',\n",
              "  '$4,249'),\n",
              " ('THEA at Metropolis',\n",
              "  'THEA at Metropolis is perfectly positioned to elevate your DTLA experience – with all the amenities and activities right outside your door. Come see for yourself!',\n",
              "  '1000 West 8th Street',\n",
              "  'Los Angeles',\n",
              "  '2 Bedrooms',\n",
              "  '1383 sqft',\n",
              "  '$6,954'),\n",
              " ('Linea',\n",
              "  'Welcome to Linea. Sophisticated apartment residences and stylish social amenities coming together in one of L.A.’s most energetic locations.',\n",
              "  '2455 S Sepulveda Blvd Unit 100',\n",
              "  'Los Angeles',\n",
              "  'Studio',\n",
              "  '506 sqft',\n",
              "  '$2,795'),\n",
              " ('Linea',\n",
              "  'Welcome to Linea. Sophisticated apartment residences and stylish social amenities coming together in one of L.A.’s most energetic locations.',\n",
              "  '2455 S Sepulveda Blvd Unit 100',\n",
              "  'Los Angeles',\n",
              "  '1 Bedroom',\n",
              "  '676 sqft',\n",
              "  '$2,930'),\n",
              " ('Linea',\n",
              "  'Welcome to Linea. Sophisticated apartment residences and stylish social amenities coming together in one of L.A.’s most energetic locations.',\n",
              "  '2455 S Sepulveda Blvd Unit 100',\n",
              "  'Los Angeles',\n",
              "  '2 Bedrooms',\n",
              "  '1338 sqft',\n",
              "  '$4,328'),\n",
              " ('Mira',\n",
              "  'Experience an eccentric modern oasis that is in a league of its own at the heart of Warner Center, LA’s fastest growing community. Mira Warner Center fuses contemporary design and deluxe amenities with a metro vibe.',\n",
              "  '21425 Vanowen Street',\n",
              "  'Los Angeles',\n",
              "  'Studio',\n",
              "  '654 sqft',\n",
              "  '$2,140'),\n",
              " ('Mira',\n",
              "  'Experience an eccentric modern oasis that is in a league of its own at the heart of Warner Center, LA’s fastest growing community. Mira Warner Center fuses contemporary design and deluxe amenities with a metro vibe.',\n",
              "  '21425 Vanowen Street',\n",
              "  'Los Angeles',\n",
              "  '1 Bedroom',\n",
              "  '863 sqft',\n",
              "  '$2,200'),\n",
              " ('Mira',\n",
              "  'Experience an eccentric modern oasis that is in a league of its own at the heart of Warner Center, LA’s fastest growing community. Mira Warner Center fuses contemporary design and deluxe amenities with a metro vibe.',\n",
              "  '21425 Vanowen Street',\n",
              "  'Los Angeles',\n",
              "  '2 Bedrooms',\n",
              "  '1046 sqft',\n",
              "  '$2,700'),\n",
              " ('The Hesby',\n",
              "  'Pet-friendly one-, two- and three-bedroom apartments in North Hollywood. Walk to shopping, dining, entertainment. Access Metro Red Line, the 101, 134, 170. Enjoy modern kitchens, granite and quartz counters, hardwoods and in-unit laundry. Pool, sauna.',\n",
              "  '5031 Fair Ave',\n",
              "  'Los Angeles',\n",
              "  'Studio',\n",
              "  '588 sqft',\n",
              "  '$2,128'),\n",
              " ('The Hesby',\n",
              "  'Pet-friendly one-, two- and three-bedroom apartments in North Hollywood. Walk to shopping, dining, entertainment. Access Metro Red Line, the 101, 134, 170. Enjoy modern kitchens, granite and quartz counters, hardwoods and in-unit laundry. Pool, sauna.',\n",
              "  '5031 Fair Ave',\n",
              "  'Los Angeles',\n",
              "  '1 Bedroom',\n",
              "  '772 sqft',\n",
              "  '$2,264'),\n",
              " ('The Hesby',\n",
              "  'Pet-friendly one-, two- and three-bedroom apartments in North Hollywood. Walk to shopping, dining, entertainment. Access Metro Red Line, the 101, 134, 170. Enjoy modern kitchens, granite and quartz counters, hardwoods and in-unit laundry. Pool, sauna.',\n",
              "  '5031 Fair Ave',\n",
              "  'Los Angeles',\n",
              "  '2 Bedrooms',\n",
              "  '1165 sqft',\n",
              "  '$2,838')]"
            ]
          },
          "metadata": {
            "tags": []
          },
          "execution_count": 13
        }
      ]
    },
    {
      "cell_type": "markdown",
      "metadata": {
        "id": "gwaZFi1a2cTD",
        "colab_type": "text"
      },
      "source": [
        "## Scrape each page"
      ]
    },
    {
      "cell_type": "code",
      "metadata": {
        "id": "AjE05K8g15WJ",
        "colab_type": "code",
        "colab": {}
      },
      "source": [
        "import time\n",
        "\n",
        "data_1 = []\n",
        "for num  in range(2,31):\n",
        "    dt = scrape_page(num)\n",
        "    data_1.extend(dt)\n",
        "    time.sleep(1)"
      ],
      "execution_count": 0,
      "outputs": []
    },
    {
      "cell_type": "code",
      "metadata": {
        "id": "YG6TX4714_Cz",
        "colab_type": "code",
        "colab": {}
      },
      "source": [
        "data_2 = []\n",
        "for num  in range(31,61):\n",
        "    dt = scrape_page(num)\n",
        "    data_2.extend(dt)\n",
        "    time.sleep(1)"
      ],
      "execution_count": 0,
      "outputs": []
    },
    {
      "cell_type": "code",
      "metadata": {
        "id": "Tj37HHlP-qLm",
        "colab_type": "code",
        "colab": {}
      },
      "source": [
        "data_3 = []\n",
        "for num  in range(61,90):\n",
        "    dt = scrape_page(num)\n",
        "    data_3.extend(dt)\n",
        "    time.sleep(1)"
      ],
      "execution_count": 0,
      "outputs": []
    },
    {
      "cell_type": "code",
      "metadata": {
        "id": "_Jvd_J-KCnLY",
        "colab_type": "code",
        "colab": {}
      },
      "source": [
        "data = appartments + data_1 + data_2 + data_3"
      ],
      "execution_count": 0,
      "outputs": []
    },
    {
      "cell_type": "markdown",
      "metadata": {
        "id": "iEr4s2ECD2P9",
        "colab_type": "text"
      },
      "source": [
        "## Stuff the captured data into a pandas DataFrame"
      ]
    },
    {
      "cell_type": "code",
      "metadata": {
        "id": "XPXg32HbD1wn",
        "colab_type": "code",
        "colab": {
          "base_uri": "https://localhost:8080/",
          "height": 204
        },
        "outputId": "37dcb27b-8d41-41c8-e8ad-28dc9cdea873"
      },
      "source": [
        "import pandas as pd\n",
        "\n",
        "df = pd.DataFrame(data, columns=['name', 'description', 'address', 'city', 'bedrooms', 'sqft', 'price'])\n",
        "df.sample(5)"
      ],
      "execution_count": 26,
      "outputs": [
        {
          "output_type": "execute_result",
          "data": {
            "text/html": [
              "<div>\n",
              "<style scoped>\n",
              "    .dataframe tbody tr th:only-of-type {\n",
              "        vertical-align: middle;\n",
              "    }\n",
              "\n",
              "    .dataframe tbody tr th {\n",
              "        vertical-align: top;\n",
              "    }\n",
              "\n",
              "    .dataframe thead th {\n",
              "        text-align: right;\n",
              "    }\n",
              "</style>\n",
              "<table border=\"1\" class=\"dataframe\">\n",
              "  <thead>\n",
              "    <tr style=\"text-align: right;\">\n",
              "      <th></th>\n",
              "      <th>name</th>\n",
              "      <th>description</th>\n",
              "      <th>address</th>\n",
              "      <th>city</th>\n",
              "      <th>bedrooms</th>\n",
              "      <th>sqft</th>\n",
              "      <th>price</th>\n",
              "    </tr>\n",
              "  </thead>\n",
              "  <tbody>\n",
              "    <tr>\n",
              "      <th>1650</th>\n",
              "      <td>6241 CRESCENT</td>\n",
              "      <td>Elegant &amp; luxurious Top floor, single level, S...</td>\n",
              "      <td>6241 Crescent Park W</td>\n",
              "      <td>Los Angeles</td>\n",
              "      <td>2 Bedrooms</td>\n",
              "      <td>2810 sqft</td>\n",
              "      <td>$6,500</td>\n",
              "    </tr>\n",
              "    <tr>\n",
              "      <th>2336</th>\n",
              "      <td>7858 JAMIESON Avenue</td>\n",
              "      <td>Remodeled 4 bedrooms, 2 bath with a pool, wi-f...</td>\n",
              "      <td>7858 Jamieson Avenue</td>\n",
              "      <td>Los Angeles</td>\n",
              "      <td>4 Bedrooms</td>\n",
              "      <td>1550 sqft</td>\n",
              "      <td>$5,995</td>\n",
              "    </tr>\n",
              "    <tr>\n",
              "      <th>1252</th>\n",
              "      <td>919 S Sherbourne Dr Apt 2</td>\n",
              "      <td>Spacious, 3 Bedroom, hardwood floors, first fl...</td>\n",
              "      <td>919 South Sherbourne Drive</td>\n",
              "      <td>Los Angeles</td>\n",
              "      <td>3 Bedrooms</td>\n",
              "      <td>1200 sqft</td>\n",
              "      <td>$3,300</td>\n",
              "    </tr>\n",
              "    <tr>\n",
              "      <th>1778</th>\n",
              "      <td>17352 West SUNSET</td>\n",
              "      <td>Designer Done and beautifully remodeled! This ...</td>\n",
              "      <td>17352 Sunset Boulevard</td>\n",
              "      <td>Los Angeles</td>\n",
              "      <td>1 Bedroom</td>\n",
              "      <td>697 sqft</td>\n",
              "      <td>$3,400</td>\n",
              "    </tr>\n",
              "    <tr>\n",
              "      <th>896</th>\n",
              "      <td>5535 Canoga Ave</td>\n",
              "      <td>RESORT STYLE COMMUNITY WITH ALL AMENITIES! Bri...</td>\n",
              "      <td>5535 Canoga Avenue</td>\n",
              "      <td>Los Angeles</td>\n",
              "      <td>1 Bedroom</td>\n",
              "      <td>610 sqft</td>\n",
              "      <td>$1,865</td>\n",
              "    </tr>\n",
              "  </tbody>\n",
              "</table>\n",
              "</div>"
            ],
            "text/plain": [
              "                           name  ...   price\n",
              "1650              6241 CRESCENT  ...  $6,500\n",
              "2336       7858 JAMIESON Avenue  ...  $5,995\n",
              "1252  919 S Sherbourne Dr Apt 2  ...  $3,300\n",
              "1778          17352 West SUNSET  ...  $3,400\n",
              "896             5535 Canoga Ave  ...  $1,865\n",
              "\n",
              "[5 rows x 7 columns]"
            ]
          },
          "metadata": {
            "tags": []
          },
          "execution_count": 26
        }
      ]
    },
    {
      "cell_type": "markdown",
      "metadata": {
        "id": "qk2vrIxLG-r2",
        "colab_type": "text"
      },
      "source": [
        "## Mount Google Drive"
      ]
    },
    {
      "cell_type": "code",
      "metadata": {
        "id": "cl0ym3zYDkdc",
        "colab_type": "code",
        "colab": {
          "base_uri": "https://localhost:8080/",
          "height": 122
        },
        "outputId": "bca2f1aa-cd7d-4ff5-fe29-744d1abd1bef"
      },
      "source": [
        "from google.colab import drive\n",
        "drive.mount('drive')"
      ],
      "execution_count": 27,
      "outputs": [
        {
          "output_type": "stream",
          "text": [
            "Go to this URL in a browser: https://accounts.google.com/o/oauth2/auth?client_id=947318989803-6bn6qk8qdgf4n4g3pfee6491hc0brc4i.apps.googleusercontent.com&redirect_uri=urn%3aietf%3awg%3aoauth%3a2.0%3aoob&response_type=code&scope=email%20https%3a%2f%2fwww.googleapis.com%2fauth%2fdocs.test%20https%3a%2f%2fwww.googleapis.com%2fauth%2fdrive%20https%3a%2f%2fwww.googleapis.com%2fauth%2fdrive.photos.readonly%20https%3a%2f%2fwww.googleapis.com%2fauth%2fpeopleapi.readonly\n",
            "\n",
            "Enter your authorization code:\n",
            "··········\n",
            "Mounted at drive\n"
          ],
          "name": "stdout"
        }
      ]
    },
    {
      "cell_type": "markdown",
      "metadata": {
        "id": "sEU1jbmnHHH1",
        "colab_type": "text"
      },
      "source": [
        "## Copy the csv file to Google Drive"
      ]
    },
    {
      "cell_type": "code",
      "metadata": {
        "id": "nmd5EcuVFnhp",
        "colab_type": "code",
        "colab": {}
      },
      "source": [
        "df.to_csv('apartments_rent_LosAngeles_2_1_2020.csv')\n",
        "!cp apartments_rent_LosAngeles_2_1_2020.csv \"drive/My Drive/\""
      ],
      "execution_count": 0,
      "outputs": []
    },
    {
      "cell_type": "markdown",
      "metadata": {
        "id": "549KC78YJnCW",
        "colab_type": "text"
      },
      "source": [
        ""
      ]
    },
    {
      "cell_type": "markdown",
      "metadata": {
        "id": "UDAUw8YJJuze",
        "colab_type": "text"
      },
      "source": [
        "# New Section"
      ]
    }
  ]
}